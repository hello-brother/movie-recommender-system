{
 "cells": [
  {
   "cell_type": "markdown",
   "metadata": {},
   "source": [
    "## Content Based"
   ]
  },
  {
   "cell_type": "code",
   "execution_count": 1,
   "metadata": {},
   "outputs": [],
   "source": [
    "import pandas as pd\n",
    "import numpy as np\n",
    "import ast"
   ]
  },
  {
   "cell_type": "code",
   "execution_count": 2,
   "metadata": {},
   "outputs": [
    {
     "data": {
      "text/html": [
       "<div>\n",
       "<style scoped>\n",
       "    .dataframe tbody tr th:only-of-type {\n",
       "        vertical-align: middle;\n",
       "    }\n",
       "\n",
       "    .dataframe tbody tr th {\n",
       "        vertical-align: top;\n",
       "    }\n",
       "\n",
       "    .dataframe thead th {\n",
       "        text-align: right;\n",
       "    }\n",
       "</style>\n",
       "<table border=\"1\" class=\"dataframe\">\n",
       "  <thead>\n",
       "    <tr style=\"text-align: right;\">\n",
       "      <th></th>\n",
       "      <th>name</th>\n",
       "      <th>overview</th>\n",
       "      <th>id</th>\n",
       "      <th>poster_path</th>\n",
       "      <th>rating</th>\n",
       "      <th>vote_count</th>\n",
       "      <th>adult</th>\n",
       "      <th>director</th>\n",
       "      <th>producer</th>\n",
       "      <th>creator</th>\n",
       "      <th>actors</th>\n",
       "      <th>year_released</th>\n",
       "      <th>genres</th>\n",
       "      <th>keywords</th>\n",
       "    </tr>\n",
       "  </thead>\n",
       "  <tbody>\n",
       "    <tr>\n",
       "      <th>0</th>\n",
       "      <td>Tagesschau</td>\n",
       "      <td>German daily news program, the oldest still ex...</td>\n",
       "      <td>94722</td>\n",
       "      <td>https://image.tmdb.org/t/p/w500/7dFZJ2ZJJdcmkp...</td>\n",
       "      <td>7.094</td>\n",
       "      <td>171</td>\n",
       "      <td>False</td>\n",
       "      <td>[]</td>\n",
       "      <td>[]</td>\n",
       "      <td>[]</td>\n",
       "      <td>[]</td>\n",
       "      <td>1952.0</td>\n",
       "      <td>['News']</td>\n",
       "      <td>['German', 'daily', 'news', 'program', 'oldest...</td>\n",
       "    </tr>\n",
       "    <tr>\n",
       "      <th>1</th>\n",
       "      <td>Elas por Elas</td>\n",
       "      <td>Seven friends who met in their youth at an Eng...</td>\n",
       "      <td>219109</td>\n",
       "      <td>https://image.tmdb.org/t/p/w500/m0cvvnhnRXdQhL...</td>\n",
       "      <td>6.533</td>\n",
       "      <td>15</td>\n",
       "      <td>False</td>\n",
       "      <td>[]</td>\n",
       "      <td>[]</td>\n",
       "      <td>['Alessandro Marson', 'Thereza Falcão']</td>\n",
       "      <td>[]</td>\n",
       "      <td>2023.0</td>\n",
       "      <td>['Comedy', 'Mystery', 'Soap', 'Drama']</td>\n",
       "      <td>['Seven', 'friends', 'met', 'youth', 'English'...</td>\n",
       "    </tr>\n",
       "    <tr>\n",
       "      <th>2</th>\n",
       "      <td>Gran hermano VIP</td>\n",
       "      <td>NaN</td>\n",
       "      <td>82250</td>\n",
       "      <td>https://image.tmdb.org/t/p/w500/9269PATr0bmEXK...</td>\n",
       "      <td>3.818</td>\n",
       "      <td>11</td>\n",
       "      <td>False</td>\n",
       "      <td>[]</td>\n",
       "      <td>[]</td>\n",
       "      <td>['John de Mol']</td>\n",
       "      <td>[]</td>\n",
       "      <td>2004.0</td>\n",
       "      <td>['Reality']</td>\n",
       "      <td>[]</td>\n",
       "    </tr>\n",
       "    <tr>\n",
       "      <th>3</th>\n",
       "      <td>Stardance XII ...kolem dokola</td>\n",
       "      <td>NaN</td>\n",
       "      <td>237200</td>\n",
       "      <td>https://image.tmdb.org/t/p/w500/ot9MBwaVWb8vJU...</td>\n",
       "      <td>7.000</td>\n",
       "      <td>2</td>\n",
       "      <td>False</td>\n",
       "      <td>[]</td>\n",
       "      <td>[]</td>\n",
       "      <td>[]</td>\n",
       "      <td>[]</td>\n",
       "      <td>2023.0</td>\n",
       "      <td>[]</td>\n",
       "      <td>[]</td>\n",
       "    </tr>\n",
       "    <tr>\n",
       "      <th>4</th>\n",
       "      <td>Temptation Island India</td>\n",
       "      <td>Relationships ka hoga ab ultimate test! Will t...</td>\n",
       "      <td>238766</td>\n",
       "      <td>https://image.tmdb.org/t/p/w500/lpcg76guqxN9Yu...</td>\n",
       "      <td>8.000</td>\n",
       "      <td>2</td>\n",
       "      <td>False</td>\n",
       "      <td>[]</td>\n",
       "      <td>[]</td>\n",
       "      <td>['Jessu George']</td>\n",
       "      <td>[]</td>\n",
       "      <td>2023.0</td>\n",
       "      <td>['Reality']</td>\n",
       "      <td>['Relationships', 'ka', 'hoga', 'ab', 'ultimat...</td>\n",
       "    </tr>\n",
       "  </tbody>\n",
       "</table>\n",
       "</div>"
      ],
      "text/plain": [
       "                            name  \\\n",
       "0                     Tagesschau   \n",
       "1                  Elas por Elas   \n",
       "2               Gran hermano VIP   \n",
       "3  Stardance XII ...kolem dokola   \n",
       "4        Temptation Island India   \n",
       "\n",
       "                                            overview      id  \\\n",
       "0  German daily news program, the oldest still ex...   94722   \n",
       "1  Seven friends who met in their youth at an Eng...  219109   \n",
       "2                                                NaN   82250   \n",
       "3                                                NaN  237200   \n",
       "4  Relationships ka hoga ab ultimate test! Will t...  238766   \n",
       "\n",
       "                                         poster_path  rating  vote_count  \\\n",
       "0  https://image.tmdb.org/t/p/w500/7dFZJ2ZJJdcmkp...   7.094         171   \n",
       "1  https://image.tmdb.org/t/p/w500/m0cvvnhnRXdQhL...   6.533          15   \n",
       "2  https://image.tmdb.org/t/p/w500/9269PATr0bmEXK...   3.818          11   \n",
       "3  https://image.tmdb.org/t/p/w500/ot9MBwaVWb8vJU...   7.000           2   \n",
       "4  https://image.tmdb.org/t/p/w500/lpcg76guqxN9Yu...   8.000           2   \n",
       "\n",
       "   adult director producer                                  creator actors  \\\n",
       "0  False       []       []                                       []     []   \n",
       "1  False       []       []  ['Alessandro Marson', 'Thereza Falcão']     []   \n",
       "2  False       []       []                          ['John de Mol']     []   \n",
       "3  False       []       []                                       []     []   \n",
       "4  False       []       []                         ['Jessu George']     []   \n",
       "\n",
       "   year_released                                  genres  \\\n",
       "0         1952.0                                ['News']   \n",
       "1         2023.0  ['Comedy', 'Mystery', 'Soap', 'Drama']   \n",
       "2         2004.0                             ['Reality']   \n",
       "3         2023.0                                      []   \n",
       "4         2023.0                             ['Reality']   \n",
       "\n",
       "                                            keywords  \n",
       "0  ['German', 'daily', 'news', 'program', 'oldest...  \n",
       "1  ['Seven', 'friends', 'met', 'youth', 'English'...  \n",
       "2                                                 []  \n",
       "3                                                 []  \n",
       "4  ['Relationships', 'ka', 'hoga', 'ab', 'ultimat...  "
      ]
     },
     "execution_count": 2,
     "metadata": {},
     "output_type": "execute_result"
    }
   ],
   "source": [
    "df = pd.read_csv(\"data.csv\")\n",
    "df.head()"
   ]
  },
  {
   "cell_type": "code",
   "execution_count": 3,
   "metadata": {},
   "outputs": [],
   "source": [
    "df['genres'] = df['genres'].apply(ast.literal_eval)\n",
    "df['genres'] = df['genres'].apply(lambda genre_list: ' '.join(map(str, genre_list)).replace(',', ''))"
   ]
  },
  {
   "cell_type": "code",
   "execution_count": 4,
   "metadata": {},
   "outputs": [],
   "source": [
    "df['keywords'] = df['keywords'].apply(ast.literal_eval)\n",
    "df['keywords'] = df['keywords'].apply(lambda genre_list: ' '.join(map(str, genre_list)).replace(',', ''))"
   ]
  },
  {
   "cell_type": "code",
   "execution_count": 5,
   "metadata": {},
   "outputs": [],
   "source": [
    "import ast\n",
    "import pandas as pd\n",
    "\n",
    "# Assuming df is your DataFrame\n",
    "df['actors'] = df['actors'].apply(lambda x: ast.literal_eval(x) if pd.notna(x) else [])\n",
    "\n",
    "# Join the elements in the list and remove commas\n",
    "df['actors'] = df['actors'].apply(lambda actor_list: ' '.join(map(str, actor_list)).replace(',', ''))\n"
   ]
  },
  {
   "cell_type": "code",
   "execution_count": 6,
   "metadata": {},
   "outputs": [],
   "source": [
    "import ast\n",
    "import pandas as pd\n",
    "\n",
    "# Assuming df is your DataFrame\n",
    "df['producer'] = df['producer'].apply(lambda x: ast.literal_eval(x) if pd.notna(x) else [])\n",
    "\n",
    "# Join the elements in the list and remove commas\n",
    "df['producer'] = df['producer'].apply(lambda actor_list: ' '.join(map(str, actor_list)).replace(',', ''))\n"
   ]
  },
  {
   "cell_type": "code",
   "execution_count": 7,
   "metadata": {},
   "outputs": [],
   "source": [
    "import ast\n",
    "import pandas as pd\n",
    "\n",
    "# Assuming df is your DataFrame\n",
    "df['director'] = df['director'].apply(lambda x: ast.literal_eval(x) if pd.notna(x) else [])\n",
    "\n",
    "# Join the elements in the list and remove commas\n",
    "df['director'] = df['director'].apply(lambda actor_list: ' '.join(map(str, actor_list)).replace(',', ''))\n"
   ]
  },
  {
   "cell_type": "code",
   "execution_count": 8,
   "metadata": {},
   "outputs": [],
   "source": [
    "import ast\n",
    "import pandas as pd\n",
    "\n",
    "# Assuming df is your DataFrame\n",
    "df['creator'] = df['creator'].apply(lambda x: ast.literal_eval(x) if pd.notna(x) else [])\n",
    "\n",
    "# Join the elements in the list and remove commas\n",
    "df['creator'] = df['creator'].apply(lambda actor_list: ' '.join(map(str, actor_list)).replace(',', ''))\n"
   ]
  },
  {
   "cell_type": "code",
   "execution_count": 9,
   "metadata": {},
   "outputs": [],
   "source": [
    "import ast\n",
    "import pandas as pd\n",
    "\n",
    "# Assuming df is your DataFrame\n",
    "df['adult'] = df['adult'].apply(lambda x: ast.literal_eval(str(x).capitalize()) if pd.notna(x) else [])\n",
    "\n",
    "# Convert boolean values to string representations\n",
    "df['adult'] = df['adult'].apply(lambda x: str(x))\n",
    "\n",
    "# Join the elements in the list and remove commas\n",
    "df['adult'] = df['adult'].apply(lambda adult_list: ' '.join(map(str, adult_list)) if isinstance(adult_list, list) else '')\n"
   ]
  },
  {
   "cell_type": "code",
   "execution_count": 10,
   "metadata": {},
   "outputs": [],
   "source": [
    "df['rating'] = df['rating'].apply(lambda x: str(x))"
   ]
  },
  {
   "cell_type": "code",
   "execution_count": 11,
   "metadata": {},
   "outputs": [],
   "source": [
    "df['tags'] = df['genres']+ \" \" + df['adult']+ \" \" + df['keywords'] + \" \" + df['rating'] + \" \" + df['director'] + \" \" + df['creator'] +  \" \" + df['producer'] +  \" \" + df['actors']"
   ]
  },
  {
   "cell_type": "code",
   "execution_count": 12,
   "metadata": {},
   "outputs": [],
   "source": [
    "df['overview'].fillna('', inplace=True)"
   ]
  },
  {
   "cell_type": "code",
   "execution_count": 13,
   "metadata": {},
   "outputs": [
    {
     "data": {
      "text/html": [
       "<div>\n",
       "<style scoped>\n",
       "    .dataframe tbody tr th:only-of-type {\n",
       "        vertical-align: middle;\n",
       "    }\n",
       "\n",
       "    .dataframe tbody tr th {\n",
       "        vertical-align: top;\n",
       "    }\n",
       "\n",
       "    .dataframe thead th {\n",
       "        text-align: right;\n",
       "    }\n",
       "</style>\n",
       "<table border=\"1\" class=\"dataframe\">\n",
       "  <thead>\n",
       "    <tr style=\"text-align: right;\">\n",
       "      <th></th>\n",
       "      <th>name</th>\n",
       "      <th>id</th>\n",
       "      <th>tags</th>\n",
       "    </tr>\n",
       "  </thead>\n",
       "  <tbody>\n",
       "    <tr>\n",
       "      <th>0</th>\n",
       "      <td>Tagesschau</td>\n",
       "      <td>94722</td>\n",
       "      <td>News  German daily news program oldest existin...</td>\n",
       "    </tr>\n",
       "    <tr>\n",
       "      <th>1</th>\n",
       "      <td>Elas por Elas</td>\n",
       "      <td>219109</td>\n",
       "      <td>Comedy Mystery Soap Drama  Seven friends met y...</td>\n",
       "    </tr>\n",
       "    <tr>\n",
       "      <th>2</th>\n",
       "      <td>Gran hermano VIP</td>\n",
       "      <td>82250</td>\n",
       "      <td>Reality   3.818  John de Mol</td>\n",
       "    </tr>\n",
       "    <tr>\n",
       "      <th>3</th>\n",
       "      <td>Stardance XII ...kolem dokola</td>\n",
       "      <td>237200</td>\n",
       "      <td>7.0</td>\n",
       "    </tr>\n",
       "    <tr>\n",
       "      <th>4</th>\n",
       "      <td>Temptation Island India</td>\n",
       "      <td>238766</td>\n",
       "      <td>Reality  Relationships ka hoga ab ultimate tes...</td>\n",
       "    </tr>\n",
       "  </tbody>\n",
       "</table>\n",
       "</div>"
      ],
      "text/plain": [
       "                            name      id  \\\n",
       "0                     Tagesschau   94722   \n",
       "1                  Elas por Elas  219109   \n",
       "2               Gran hermano VIP   82250   \n",
       "3  Stardance XII ...kolem dokola  237200   \n",
       "4        Temptation Island India  238766   \n",
       "\n",
       "                                                tags  \n",
       "0  News  German daily news program oldest existin...  \n",
       "1  Comedy Mystery Soap Drama  Seven friends met y...  \n",
       "2                     Reality   3.818  John de Mol    \n",
       "3                                            7.0      \n",
       "4  Reality  Relationships ka hoga ab ultimate tes...  "
      ]
     },
     "execution_count": 13,
     "metadata": {},
     "output_type": "execute_result"
    }
   ],
   "source": [
    "df = df.drop(columns=['poster_path','rating','vote_count','genres','keywords','overview','creator','producer','director','actors','adult','year_released'])\n",
    "df.head()"
   ]
  },
  {
   "cell_type": "code",
   "execution_count": 14,
   "metadata": {},
   "outputs": [],
   "source": [
    "df.to_csv(\"new_data.csv\",index=False)"
   ]
  },
  {
   "cell_type": "code",
   "execution_count": 55,
   "metadata": {},
   "outputs": [],
   "source": [
    "from sklearn.feature_extraction.text import CountVectorizer\n",
    "cv = CountVectorizer(max_features=10000,stop_words='english')"
   ]
  },
  {
   "cell_type": "code",
   "execution_count": 56,
   "metadata": {},
   "outputs": [],
   "source": [
    "vector = cv.fit_transform(df['tags']).toarray()"
   ]
  },
  {
   "cell_type": "code",
   "execution_count": 57,
   "metadata": {},
   "outputs": [
    {
     "data": {
      "text/plain": [
       "(9542, 10000)"
      ]
     },
     "execution_count": 57,
     "metadata": {},
     "output_type": "execute_result"
    }
   ],
   "source": [
    "vector.shape"
   ]
  },
  {
   "cell_type": "code",
   "execution_count": 58,
   "metadata": {},
   "outputs": [
    {
     "data": {
      "text/plain": [
       "array([[1.        , 0.        , 0.        , ..., 0.        , 0.        ,\n",
       "        0.        ],\n",
       "       [0.        , 1.        , 0.        , ..., 0.03857584, 0.07856742,\n",
       "        0.09365858],\n",
       "       [0.        , 0.        , 1.        , ..., 0.        , 0.        ,\n",
       "        0.        ],\n",
       "       ...,\n",
       "       [0.        , 0.03857584, 0.        , ..., 1.        , 0.0727393 ,\n",
       "        0.0433555 ],\n",
       "       [0.        , 0.07856742, 0.        , ..., 0.0727393 , 1.        ,\n",
       "        0.04415108],\n",
       "       [0.        , 0.09365858, 0.        , ..., 0.0433555 , 0.04415108,\n",
       "        1.        ]])"
      ]
     },
     "execution_count": 58,
     "metadata": {},
     "output_type": "execute_result"
    }
   ],
   "source": [
    "from sklearn.metrics.pairwise import cosine_similarity\n",
    "similarity = cosine_similarity(vector)\n",
    "similarity"
   ]
  },
  {
   "cell_type": "code",
   "execution_count": 61,
   "metadata": {},
   "outputs": [],
   "source": [
    "def recommend(movie):\n",
    "    index = df[df['name'] == movie].index[0]\n",
    "    distances = sorted(list(enumerate(similarity[index])),reverse=True,key = lambda x: x[1])\n",
    "    for i in distances[1:31]:\n",
    "        print(df.iloc[i[0]]['name'])"
   ]
  },
  {
   "cell_type": "code",
   "execution_count": 66,
   "metadata": {},
   "outputs": [
    {
     "name": "stdout",
     "output_type": "stream",
     "text": [
      "Big Brother\n",
      "MasterChef India\n",
      "De Bondgenoten\n",
      "Gran hermano\n",
      "First Dates NL\n",
      "Die Küchenschlacht\n",
      "Big Brother Česko & Slovensko\n",
      "Alle mot alle\n",
      "Steel Buddies\n",
      "Farmen\n",
      "Promi Big Brother\n",
      "Big Brother\n",
      "Trump Card\n",
      "Deutscher Filmpreis\n",
      "Divas Hit the Road\n",
      "Die Feste mit Florian Silbereisen\n",
      "Bauer sucht Frau\n",
      "Hello, May I Ask You?\n",
      "Markt\n",
      "Česko Slovensko má talent\n",
      "Sztárban sztár leszek!\n",
      "La más draga\n",
      "Call Me By Fire\n",
      "L'amour est dans le pré Belgique\n",
      "Familie Gillis: Massa is Kassa\n",
      "MasterChef Česko\n",
      "Výměna manželek\n",
      "Kompani Lauritzen: Tropp\n",
      "Heart Signal\n",
      "Die Montagsmaler\n"
     ]
    }
   ],
   "source": [
    "recommend('Bigg Boss')"
   ]
  },
  {
   "cell_type": "markdown",
   "metadata": {},
   "source": [
    "## Collaborative Filtering"
   ]
  },
  {
   "cell_type": "code",
   "execution_count": null,
   "metadata": {},
   "outputs": [],
   "source": []
  },
  {
   "cell_type": "code",
   "execution_count": 19,
   "metadata": {},
   "outputs": [
    {
     "name": "stdout",
     "output_type": "stream",
     "text": [
      "+------+--------------------+\n",
      "|  name|              genres|\n",
      "+------+--------------------+\n",
      "|Movie1|['Comedy', 'Myste...|\n",
      "|Movie2|['Action', 'Adven...|\n",
      "|Movie3|          ['Comedy']|\n",
      "+------+--------------------+\n",
      "\n",
      "+------+----------------------------+\n",
      "|name  |genres                      |\n",
      "+------+----------------------------+\n",
      "|Movie1|Comedy, Mystery, Soap, Drama|\n",
      "|Movie2|Action, Adventure, Sci-Fi   |\n",
      "|Movie3|Comedy                      |\n",
      "+------+----------------------------+\n",
      "\n"
     ]
    }
   ],
   "source": [
    "from pyspark.sql.functions import regexp_replace\n",
    "\n",
    "from pyspark.sql import SparkSession\n",
    "from pyspark.sql.functions import split, concat_ws, col\n",
    "\n",
    "# Create a Spark session\n",
    "spark = SparkSession.builder.appName(\"Example\").getOrCreate()\n",
    "\n",
    "# Assuming 'movies' is your DataFrame\n",
    "data = [(\"Movie1\", \"['Comedy', 'Mystery', 'Soap', 'Drama']\"),\n",
    "        (\"Movie2\", \"['Action', 'Adventure', 'Sci-Fi']\"),\n",
    "        (\"Movie3\", \"['Comedy']\")]\n",
    "\n",
    "columns = [\"name\", \"genres\"]\n",
    "\n",
    "movies = spark.createDataFrame(data, columns)\n",
    "movies.show()\n",
    "\n",
    "\n",
    "# Remove square brackets and single quotes\n",
    "movies = movies.withColumn(\"genres\", regexp_replace(\"genres\", \"[\\[\\]']\", \"\"))\n",
    "\n",
    "# Show the updated DataFrame\n",
    "movies.show(truncate=False)\n"
   ]
  },
  {
   "cell_type": "code",
   "execution_count": 5,
   "metadata": {},
   "outputs": [],
   "source": [
    "import pandas as pd\n",
    "df = pd.read_csv(\"final_ratings.csv\")\n",
    "# Assuming df is your DataFrame\n",
    "df = df.drop('name', axis=1)\n",
    "\n",
    "df.to_csv(\"ratings_data.csv\", index=False)"
   ]
  },
  {
   "cell_type": "code",
   "execution_count": null,
   "metadata": {},
   "outputs": [],
   "source": []
  }
 ],
 "metadata": {
  "kernelspec": {
   "display_name": "base",
   "language": "python",
   "name": "python3"
  },
  "language_info": {
   "codemirror_mode": {
    "name": "ipython",
    "version": 3
   },
   "file_extension": ".py",
   "mimetype": "text/x-python",
   "name": "python",
   "nbconvert_exporter": "python",
   "pygments_lexer": "ipython3",
   "version": "3.11.4"
  }
 },
 "nbformat": 4,
 "nbformat_minor": 2
}
