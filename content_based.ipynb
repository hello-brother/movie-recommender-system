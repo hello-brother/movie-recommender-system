{
 "cells": [
  {
   "cell_type": "code",
   "execution_count": 14,
   "metadata": {},
   "outputs": [
    {
     "name": "stderr",
     "output_type": "stream",
     "text": [
      "                                                                                \r"
     ]
    }
   ],
   "source": [
    "from pyspark.sql import SparkSession\n",
    "from pyspark.ml.feature import HashingTF, IDF, Tokenizer, StopWordsRemover\n",
    "from pyspark.ml.linalg import Vectors\n",
    "from pyspark.ml.feature import VectorAssembler, Normalizer\n",
    "from pyspark.sql.functions import col\n",
    "\n",
    "spark = SparkSession.builder.appName(\"ContentBasedFiltering\").config(\"spark.sql.execution.arrow.maxRecordsPerBatch\", 50).getOrCreate()\n",
    "data = spark.read.option(\"header\", \"true\").csv(\"new_data.csv\")\n",
    "data = data.na.drop(subset=[\"tags\"])\n",
    "tokenizer = Tokenizer(inputCol=\"tags\", outputCol=\"words\")\n",
    "data = tokenizer.transform(data)\n",
    "remover = StopWordsRemover(inputCol=\"words\", outputCol=\"filtered_words\")\n",
    "data = remover.transform(data)\n",
    "hashingTF = HashingTF(inputCol=\"filtered_words\", outputCol=\"rawFeatures\")\n",
    "data = hashingTF.transform(data)\n",
    "idf = IDF(inputCol=\"rawFeatures\", outputCol=\"features\")\n",
    "idfModel = idf.fit(data)\n",
    "data = idfModel.transform(data)\n",
    "assembler = VectorAssembler(inputCols=[\"features\"], outputCol=\"feature_vector\")\n",
    "data = assembler.transform(data)\n",
    "normalizer = Normalizer(inputCol=\"feature_vector\", outputCol=\"normalized_features\")\n",
    "data = normalizer.transform(data)\n",
    "\n",
    "selected_data = data.select(\"name\", \"normalized_features\")\n",
    "\n",
    "def get_top_movies(movie_name, top_n):\n",
    "    movie_data = selected_data.filter(col(\"name\") == movie_name)\n",
    "    cross_joined_data = selected_data.crossJoin(movie_data.withColumnRenamed(\"name\", \"movie_name_2\").withColumnRenamed(\"normalized_features\", \"normalized_features_2\"))\n",
    "    def cosine_similarity(v1, v2):\n",
    "        return float(v1.dot(v2) / (v1.norm(2) * v2.norm(2)))\n",
    "    cosine_similarity_udf = spark.udf.register(\"cosine_similarity\", cosine_similarity)\n",
    "    result = cross_joined_data.withColumn(\"similarity\", cosine_similarity_udf(\"normalized_features\", \"normalized_features_2\")).filter(col(\"name\") != col(\"movie_name_2\"))\n",
    "    result = result.withColumn(\"similarity\", col(\"similarity\").cast(\"double\"))\n",
    "    result = result.withColumn(\"similarity\", col(\"similarity\").cast(\"decimal(10,5)\"))\n",
    "    recommendations = (\n",
    "        result.select(col(\"name\").alias(\"movie_name\"), \"similarity\")\n",
    "        .orderBy(col(\"similarity\").desc())\n",
    "        .limit(top_n)\n",
    "    )\n",
    "    print(f\"Recommendations for movie {movie_name} are:\")\n",
    "    recommendations.show(100, truncate=False)\n"
   ]
  },
  {
   "cell_type": "code",
   "execution_count": 13,
   "metadata": {},
   "outputs": [
    {
     "name": "stderr",
     "output_type": "stream",
     "text": [
      "23/11/30 23:13:47 WARN SimpleFunctionRegistry: The function cosine_similarity replaced a previously registered function.\n"
     ]
    },
    {
     "name": "stdout",
     "output_type": "stream",
     "text": [
      "Recommendations for movie The Spectacular Spider-Man are:\n"
     ]
    },
    {
     "name": "stderr",
     "output_type": "stream",
     "text": [
      "23/11/30 23:13:48 WARN DAGScheduler: Broadcasting large task binary with size 4.1 MiB\n",
      "23/11/30 23:13:52 WARN DAGScheduler: Broadcasting large task binary with size 18.7 MiB\n",
      "[Stage 24:>                                                         (0 + 1) / 1]\r"
     ]
    },
    {
     "name": "stdout",
     "output_type": "stream",
     "text": [
      "+---------------------------------------------------------------------------+----------+\n",
      "|movie_name                                                                 |similarity|\n",
      "+---------------------------------------------------------------------------+----------+\n",
      "|DC Super Hero Girls                                                        |0.18529   |\n",
      "|Spider-Man                                                                 |0.17049   |\n",
      "|Spider-Man                                                                 |0.15340   |\n",
      "|The Avengers: United They Stand                                            |0.14020   |\n",
      "|The Thundermans                                                            |0.13975   |\n",
      "|Stripperella                                                               |0.13836   |\n",
      "|Me, Myself & I                                                             |0.13280   |\n",
      "|Spider-Man and His Amazing Friends                                         |0.12166   |\n",
      "|Heroes                                                                     |0.11466   |\n",
      "|The Marvel Super Heroes                                                    |0.11240   |\n",
      "|Tsukigakirei                                                               |0.11193   |\n",
      "|Marvel's Spider-Man                                                        |0.10817   |\n",
      "|Attack on Titan: Junior High                                               |0.10766   |\n",
      "|Dog with a Blog                                                            |0.10717   |\n",
      "|The Masked Singer                                                          |0.10392   |\n",
      "|Digimon Adventure                                                          |0.10384   |\n",
      "|Ben 10: Omniverse                                                          |0.09921   |\n",
      "|Sonny Boy                                                                  |0.09900   |\n",
      "|Smart Guy                                                                  |0.09857   |\n",
      "|Degrassi: Next Class                                                       |0.09808   |\n",
      "|American Dragon: Jake Long                                                 |0.09755   |\n",
      "|Super Friends: The Legendary Super Powers Show                             |0.09626   |\n",
      "|Oreshura                                                                   |0.09524   |\n",
      "|Braceface                                                                  |0.09455   |\n",
      "|Spider-Woman                                                               |0.09422   |\n",
      "|Let Me Check the Walkthrough First                                         |0.09420   |\n",
      "|Go! Princess PreCure                                                       |0.09413   |\n",
      "|Marvel's The Punisher                                                      |0.09404   |\n",
      "|The Clan                                                                   |0.09261   |\n",
      "|Spenser: For Hire                                                          |0.09188   |\n",
      "|Navillera                                                                  |0.09080   |\n",
      "|Gravity Falls                                                              |0.09076   |\n",
      "|Freakazoid!                                                                |0.09046   |\n",
      "|LEGO Ninjago: Dragons Rising                                               |0.09033   |\n",
      "|The Daily Life of the Immortal King                                        |0.08946   |\n",
      "|Spy Kids: Mission Critical                                                 |0.08898   |\n",
      "|Outnumbered                                                                |0.08897   |\n",
      "|Men on a Mission                                                           |0.08837   |\n",
      "|Himitsu Sentai Goranger                                                    |0.08759   |\n",
      "|Frasier                                                                    |0.08728   |\n",
      "|Wagnaria!!                                                                 |0.08693   |\n",
      "|Occultic;Nine                                                              |0.08632   |\n",
      "|Danny Phantom                                                              |0.08533   |\n",
      "|Usagi Drop                                                                 |0.08521   |\n",
      "|Flame of Recca                                                             |0.08521   |\n",
      "|Behind Her Eyes                                                            |0.08489   |\n",
      "|Matt Hatter Chronicles                                                     |0.08486   |\n",
      "|This Is England '86                                                        |0.08481   |\n",
      "|Everything Now                                                             |0.08480   |\n",
      "|Spider-Man                                                                 |0.08441   |\n",
      "|Happy Toon                                                                 |0.08441   |\n",
      "|The Steve Harvey Show                                                      |0.08416   |\n",
      "|The Tick                                                                   |0.08392   |\n",
      "|Miraculous: Tales of Ladybug & Cat Noir                                    |0.08343   |\n",
      "|Junior Eurovision Song Contest                                             |0.08171   |\n",
      "|10 Things I Hate About You                                                 |0.08108   |\n",
      "|The Super Hero Squad Show                                                  |0.08057   |\n",
      "|Inspector George Gently                                                    |0.07958   |\n",
      "|BUILD-DIVIDE                                                               |0.07934   |\n",
      "|Lab Rats: Elite Force                                                      |0.07922   |\n",
      "|Star vs. the Forces of Evil                                                |0.07870   |\n",
      "|Digimon Savers                                                             |0.07851   |\n",
      "|Fantastic Four                                                             |0.07803   |\n",
      "|SHAMAN KING                                                                |0.07769   |\n",
      "|The Full-Time Wife Escapist                                                |0.07656   |\n",
      "|Marvel's Runaways                                                          |0.07638   |\n",
      "|American Born Chinese                                                      |0.07580   |\n",
      "|SHY                                                                        |0.07521   |\n",
      "|Masha's Spooky Stories                                                     |0.07473   |\n",
      "|The Liar and His Lover                                                     |0.07441   |\n",
      "|The Six Million Dollar Man                                                 |0.07417   |\n",
      "|宝宝巴士儿歌合集                                                           |0.07409   |\n",
      "|Datová Lhota                                                               |0.07409   |\n",
      "|Mickey's Christmas Tales                                                   |0.07409   |\n",
      "|The Summer I Turned Pretty                                                 |0.07407   |\n",
      "|Love, Chunibyo & Other Delusions!                                          |0.07406   |\n",
      "|Doug                                                                       |0.07392   |\n",
      "|Tropical-Rouge! Precure                                                    |0.07361   |\n",
      "|Kaijudo: Clash of the Duel Masters                                         |0.07318   |\n",
      "|Marvel's Spidey and His Amazing Friends                                    |0.07239   |\n",
      "|Hawaii Five-0                                                              |0.07174   |\n",
      "|Gremlins: Secrets of the Mogwai                                            |0.07174   |\n",
      "|Azumanga Daioh                                                             |0.07170   |\n",
      "|Air Gear                                                                   |0.07111   |\n",
      "|Fruits Basket                                                              |0.07108   |\n",
      "|Invincible                                                                 |0.07100   |\n",
      "|Epic Rap Battles of History                                                |0.07096   |\n",
      "|He Is Psychometric                                                         |0.07087   |\n",
      "|Maken-Ki! Battling Venus                                                   |0.07046   |\n",
      "|Free Rein                                                                  |0.07004   |\n",
      "|Lily's Driftwood Bay                                                       |0.06999   |\n",
      "|WATAMOTE ~No Matter How I Look at It, It's You Guys Fault I'm Not Popular!~|0.06970   |\n",
      "|SKAM Spain                                                                 |0.06921   |\n",
      "|A.N.T. Farm                                                                |0.06907   |\n",
      "|Malibu Rescue: The Series                                                  |0.06899   |\n",
      "|Sullivan & Son                                                             |0.06887   |\n",
      "|KissXsis                                                                   |0.06839   |\n",
      "|MegaMan NT Warrior                                                         |0.06803   |\n",
      "|The Day I Became a God                                                     |0.06800   |\n",
      "|New Neighbors                                                              |0.06783   |\n",
      "+---------------------------------------------------------------------------+----------+\n",
      "\n"
     ]
    },
    {
     "name": "stderr",
     "output_type": "stream",
     "text": [
      "                                                                                \r"
     ]
    }
   ],
   "source": [
    "get_top_movies(\"The Spectacular Spider-Man\", 100)"
   ]
  },
  {
   "cell_type": "code",
   "execution_count": null,
   "metadata": {},
   "outputs": [],
   "source": []
  }
 ],
 "metadata": {
  "kernelspec": {
   "display_name": "base",
   "language": "python",
   "name": "python3"
  },
  "language_info": {
   "codemirror_mode": {
    "name": "ipython",
    "version": 3
   },
   "file_extension": ".py",
   "mimetype": "text/x-python",
   "name": "python",
   "nbconvert_exporter": "python",
   "pygments_lexer": "ipython3",
   "version": "3.11.4"
  }
 },
 "nbformat": 4,
 "nbformat_minor": 2
}
